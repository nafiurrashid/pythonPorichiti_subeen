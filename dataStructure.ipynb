{
 "cells": [
  {
   "cell_type": "code",
   "execution_count": 1,
   "id": "32a975d6",
   "metadata": {},
   "outputs": [],
   "source": [
    "###List"
   ]
  },
  {
   "cell_type": "code",
   "execution_count": 2,
   "id": "b176ab7b",
   "metadata": {},
   "outputs": [
    {
     "name": "stdout",
     "output_type": "stream",
     "text": [
      "[1, 2, 3, 4, 5, 6, 7, 8]\n"
     ]
    }
   ],
   "source": [
    "li=[1,2,3,4,5,6,7,8]\n",
    "print(li)"
   ]
  },
  {
   "cell_type": "code",
   "execution_count": 3,
   "id": "0066c6a8",
   "metadata": {},
   "outputs": [],
   "source": [
    "li.append(9)"
   ]
  },
  {
   "cell_type": "code",
   "execution_count": 4,
   "id": "9169bf26",
   "metadata": {},
   "outputs": [
    {
     "data": {
      "text/plain": [
       "[1, 2, 3, 4, 5, 6, 7, 8, 9]"
      ]
     },
     "execution_count": 4,
     "metadata": {},
     "output_type": "execute_result"
    }
   ],
   "source": [
    "li"
   ]
  },
  {
   "cell_type": "code",
   "execution_count": 5,
   "id": "ef312216",
   "metadata": {},
   "outputs": [],
   "source": [
    "li.sort()"
   ]
  },
  {
   "cell_type": "code",
   "execution_count": 6,
   "id": "25c2128a",
   "metadata": {},
   "outputs": [
    {
     "data": {
      "text/plain": [
       "[1, 2, 3, 4, 5, 6, 7, 8, 9]"
      ]
     },
     "execution_count": 6,
     "metadata": {},
     "output_type": "execute_result"
    }
   ],
   "source": [
    "li"
   ]
  },
  {
   "cell_type": "code",
   "execution_count": 7,
   "id": "2851327d",
   "metadata": {},
   "outputs": [],
   "source": [
    "li.reverse()"
   ]
  },
  {
   "cell_type": "code",
   "execution_count": 8,
   "id": "acea82f5",
   "metadata": {},
   "outputs": [
    {
     "data": {
      "text/plain": [
       "[9, 8, 7, 6, 5, 4, 3, 2, 1]"
      ]
     },
     "execution_count": 8,
     "metadata": {},
     "output_type": "execute_result"
    }
   ],
   "source": [
    "li"
   ]
  },
  {
   "cell_type": "code",
   "execution_count": 9,
   "id": "6673e0e7",
   "metadata": {},
   "outputs": [],
   "source": [
    "li.insert(0,0)"
   ]
  },
  {
   "cell_type": "code",
   "execution_count": 10,
   "id": "25381472",
   "metadata": {},
   "outputs": [
    {
     "data": {
      "text/plain": [
       "[0, 9, 8, 7, 6, 5, 4, 3, 2, 1]"
      ]
     },
     "execution_count": 10,
     "metadata": {},
     "output_type": "execute_result"
    }
   ],
   "source": [
    "li"
   ]
  },
  {
   "cell_type": "code",
   "execution_count": 11,
   "id": "e6f96f61",
   "metadata": {},
   "outputs": [],
   "source": [
    "li2=list(range(10,21))"
   ]
  },
  {
   "cell_type": "code",
   "execution_count": 12,
   "id": "a88f7741",
   "metadata": {},
   "outputs": [
    {
     "data": {
      "text/plain": [
       "list"
      ]
     },
     "execution_count": 12,
     "metadata": {},
     "output_type": "execute_result"
    }
   ],
   "source": [
    "type(li2)"
   ]
  },
  {
   "cell_type": "code",
   "execution_count": 13,
   "id": "a95149a2",
   "metadata": {},
   "outputs": [
    {
     "data": {
      "text/plain": [
       "[10, 11, 12, 13, 14, 15, 16, 17, 18, 19, 20]"
      ]
     },
     "execution_count": 13,
     "metadata": {},
     "output_type": "execute_result"
    }
   ],
   "source": [
    "li2"
   ]
  },
  {
   "cell_type": "code",
   "execution_count": 14,
   "id": "dbbb7f42",
   "metadata": {},
   "outputs": [],
   "source": [
    "li.extend(li2)"
   ]
  },
  {
   "cell_type": "code",
   "execution_count": 15,
   "id": "12c612f7",
   "metadata": {},
   "outputs": [
    {
     "data": {
      "text/plain": [
       "[0, 9, 8, 7, 6, 5, 4, 3, 2, 1, 10, 11, 12, 13, 14, 15, 16, 17, 18, 19, 20]"
      ]
     },
     "execution_count": 15,
     "metadata": {},
     "output_type": "execute_result"
    }
   ],
   "source": [
    "li"
   ]
  },
  {
   "cell_type": "code",
   "execution_count": 16,
   "id": "55ffa83a",
   "metadata": {},
   "outputs": [
    {
     "data": {
      "text/plain": [
       "1"
      ]
     },
     "execution_count": 16,
     "metadata": {},
     "output_type": "execute_result"
    }
   ],
   "source": [
    "li.count(9)"
   ]
  },
  {
   "cell_type": "code",
   "execution_count": 17,
   "id": "a424d28f",
   "metadata": {},
   "outputs": [
    {
     "data": {
      "text/plain": [
       "0"
      ]
     },
     "execution_count": 17,
     "metadata": {},
     "output_type": "execute_result"
    }
   ],
   "source": [
    "li2.count(9)"
   ]
  },
  {
   "cell_type": "code",
   "execution_count": 18,
   "id": "a3251710",
   "metadata": {},
   "outputs": [],
   "source": [
    "li.remove(5)"
   ]
  },
  {
   "cell_type": "code",
   "execution_count": 19,
   "id": "7a2c2556",
   "metadata": {},
   "outputs": [
    {
     "data": {
      "text/plain": [
       "[0, 9, 8, 7, 6, 4, 3, 2, 1, 10, 11, 12, 13, 14, 15, 16, 17, 18, 19, 20]"
      ]
     },
     "execution_count": 19,
     "metadata": {},
     "output_type": "execute_result"
    }
   ],
   "source": [
    "li"
   ]
  },
  {
   "cell_type": "code",
   "execution_count": 20,
   "id": "d79a8e17",
   "metadata": {},
   "outputs": [
    {
     "data": {
      "text/plain": [
       "20"
      ]
     },
     "execution_count": 20,
     "metadata": {},
     "output_type": "execute_result"
    }
   ],
   "source": [
    "li.pop()"
   ]
  },
  {
   "cell_type": "code",
   "execution_count": 21,
   "id": "981b7d31",
   "metadata": {},
   "outputs": [
    {
     "data": {
      "text/plain": [
       "[0, 9, 8, 7, 6, 4, 3, 2, 1, 10, 11, 12, 13, 14, 15, 16, 17, 18, 19]"
      ]
     },
     "execution_count": 21,
     "metadata": {},
     "output_type": "execute_result"
    }
   ],
   "source": [
    "li"
   ]
  },
  {
   "cell_type": "code",
   "execution_count": 22,
   "id": "9795b5b8",
   "metadata": {},
   "outputs": [
    {
     "data": {
      "text/plain": [
       "0"
      ]
     },
     "execution_count": 22,
     "metadata": {},
     "output_type": "execute_result"
    }
   ],
   "source": [
    "li.pop(0)"
   ]
  },
  {
   "cell_type": "code",
   "execution_count": 23,
   "id": "7db99efe",
   "metadata": {},
   "outputs": [
    {
     "data": {
      "text/plain": [
       "[9, 8, 7, 6, 4, 3, 2, 1, 10, 11, 12, 13, 14, 15, 16, 17, 18, 19]"
      ]
     },
     "execution_count": 23,
     "metadata": {},
     "output_type": "execute_result"
    }
   ],
   "source": [
    "li"
   ]
  },
  {
   "cell_type": "code",
   "execution_count": 24,
   "id": "77d2fcce",
   "metadata": {},
   "outputs": [],
   "source": [
    "li.sort() \n"
   ]
  },
  {
   "cell_type": "code",
   "execution_count": 25,
   "id": "baf52ded",
   "metadata": {},
   "outputs": [
    {
     "data": {
      "text/plain": [
       "[1, 2, 3, 4, 6, 7, 8, 9, 10, 11, 12, 13, 14, 15, 16, 17, 18, 19]"
      ]
     },
     "execution_count": 25,
     "metadata": {},
     "output_type": "execute_result"
    }
   ],
   "source": [
    "li"
   ]
  },
  {
   "cell_type": "code",
   "execution_count": 26,
   "id": "b4553ee7",
   "metadata": {},
   "outputs": [
    {
     "data": {
      "text/plain": [
       "1"
      ]
     },
     "execution_count": 26,
     "metadata": {},
     "output_type": "execute_result"
    }
   ],
   "source": [
    "li.pop(0)"
   ]
  },
  {
   "cell_type": "code",
   "execution_count": 27,
   "id": "ae7209b8",
   "metadata": {},
   "outputs": [
    {
     "data": {
      "text/plain": [
       "2"
      ]
     },
     "execution_count": 27,
     "metadata": {},
     "output_type": "execute_result"
    }
   ],
   "source": [
    "li.pop(0)"
   ]
  },
  {
   "cell_type": "code",
   "execution_count": 28,
   "id": "9a8288e7",
   "metadata": {},
   "outputs": [
    {
     "data": {
      "text/plain": [
       "3"
      ]
     },
     "execution_count": 28,
     "metadata": {},
     "output_type": "execute_result"
    }
   ],
   "source": [
    "li.pop(0)"
   ]
  },
  {
   "cell_type": "code",
   "execution_count": 29,
   "id": "4d4e84c8",
   "metadata": {},
   "outputs": [
    {
     "data": {
      "text/plain": [
       "[4, 6, 7, 8, 9, 10, 11, 12, 13, 14, 15, 16, 17, 18, 19]"
      ]
     },
     "execution_count": 29,
     "metadata": {},
     "output_type": "execute_result"
    }
   ],
   "source": [
    "li"
   ]
  },
  {
   "cell_type": "code",
   "execution_count": 30,
   "id": "acc58446",
   "metadata": {},
   "outputs": [],
   "source": [
    "li=[0]*100"
   ]
  },
  {
   "cell_type": "code",
   "execution_count": 31,
   "id": "bb969241",
   "metadata": {},
   "outputs": [
    {
     "data": {
      "text/plain": [
       "[0,\n",
       " 0,\n",
       " 0,\n",
       " 0,\n",
       " 0,\n",
       " 0,\n",
       " 0,\n",
       " 0,\n",
       " 0,\n",
       " 0,\n",
       " 0,\n",
       " 0,\n",
       " 0,\n",
       " 0,\n",
       " 0,\n",
       " 0,\n",
       " 0,\n",
       " 0,\n",
       " 0,\n",
       " 0,\n",
       " 0,\n",
       " 0,\n",
       " 0,\n",
       " 0,\n",
       " 0,\n",
       " 0,\n",
       " 0,\n",
       " 0,\n",
       " 0,\n",
       " 0,\n",
       " 0,\n",
       " 0,\n",
       " 0,\n",
       " 0,\n",
       " 0,\n",
       " 0,\n",
       " 0,\n",
       " 0,\n",
       " 0,\n",
       " 0,\n",
       " 0,\n",
       " 0,\n",
       " 0,\n",
       " 0,\n",
       " 0,\n",
       " 0,\n",
       " 0,\n",
       " 0,\n",
       " 0,\n",
       " 0,\n",
       " 0,\n",
       " 0,\n",
       " 0,\n",
       " 0,\n",
       " 0,\n",
       " 0,\n",
       " 0,\n",
       " 0,\n",
       " 0,\n",
       " 0,\n",
       " 0,\n",
       " 0,\n",
       " 0,\n",
       " 0,\n",
       " 0,\n",
       " 0,\n",
       " 0,\n",
       " 0,\n",
       " 0,\n",
       " 0,\n",
       " 0,\n",
       " 0,\n",
       " 0,\n",
       " 0,\n",
       " 0,\n",
       " 0,\n",
       " 0,\n",
       " 0,\n",
       " 0,\n",
       " 0,\n",
       " 0,\n",
       " 0,\n",
       " 0,\n",
       " 0,\n",
       " 0,\n",
       " 0,\n",
       " 0,\n",
       " 0,\n",
       " 0,\n",
       " 0,\n",
       " 0,\n",
       " 0,\n",
       " 0,\n",
       " 0,\n",
       " 0,\n",
       " 0,\n",
       " 0,\n",
       " 0,\n",
       " 0,\n",
       " 0]"
      ]
     },
     "execution_count": 31,
     "metadata": {},
     "output_type": "execute_result"
    }
   ],
   "source": [
    "li"
   ]
  },
  {
   "cell_type": "code",
   "execution_count": 32,
   "id": "1e0f591b",
   "metadata": {},
   "outputs": [
    {
     "data": {
      "text/plain": [
       "[10, 11, 12, 13, 14, 15, 16, 17, 18, 19, 20]"
      ]
     },
     "execution_count": 32,
     "metadata": {},
     "output_type": "execute_result"
    }
   ],
   "source": [
    "li2"
   ]
  },
  {
   "cell_type": "code",
   "execution_count": 33,
   "id": "c6c89674",
   "metadata": {},
   "outputs": [
    {
     "ename": "NameError",
     "evalue": "name 'li1' is not defined",
     "output_type": "error",
     "traceback": [
      "\u001b[1;31m---------------------------------------------------------------------------\u001b[0m",
      "\u001b[1;31mNameError\u001b[0m                                 Traceback (most recent call last)",
      "\u001b[1;32m<ipython-input-33-ac6881d35ffe>\u001b[0m in \u001b[0;36m<module>\u001b[1;34m\u001b[0m\n\u001b[1;32m----> 1\u001b[1;33m \u001b[0mli1\u001b[0m\u001b[1;33m\u001b[0m\u001b[1;33m\u001b[0m\u001b[0m\n\u001b[0m",
      "\u001b[1;31mNameError\u001b[0m: name 'li1' is not defined"
     ]
    }
   ],
   "source": [
    "li1"
   ]
  },
  {
   "cell_type": "code",
   "execution_count": 34,
   "id": "b9e93e85",
   "metadata": {},
   "outputs": [],
   "source": [
    "li1=li2"
   ]
  },
  {
   "cell_type": "code",
   "execution_count": 41,
   "id": "7366d8cf",
   "metadata": {},
   "outputs": [
    {
     "data": {
      "text/plain": [
       "[10, 11, 12, 13, 14, 15, 16, 17, 18, 9]"
      ]
     },
     "execution_count": 41,
     "metadata": {},
     "output_type": "execute_result"
    }
   ],
   "source": [
    "li1"
   ]
  },
  {
   "cell_type": "code",
   "execution_count": 42,
   "id": "b6d9637d",
   "metadata": {},
   "outputs": [
    {
     "data": {
      "text/plain": [
       "[10, 11, 12, 13, 14, 15, 16, 17, 18, 9]"
      ]
     },
     "execution_count": 42,
     "metadata": {},
     "output_type": "execute_result"
    }
   ],
   "source": [
    "li2"
   ]
  },
  {
   "cell_type": "code",
   "execution_count": 43,
   "id": "5437bc74",
   "metadata": {},
   "outputs": [
    {
     "data": {
      "text/plain": [
       "9"
      ]
     },
     "execution_count": 43,
     "metadata": {},
     "output_type": "execute_result"
    }
   ],
   "source": [
    "li2[9]"
   ]
  },
  {
   "cell_type": "code",
   "execution_count": 44,
   "id": "8d3d5902",
   "metadata": {},
   "outputs": [],
   "source": [
    "li2[9]=9"
   ]
  },
  {
   "cell_type": "code",
   "execution_count": 45,
   "id": "1dd16387",
   "metadata": {},
   "outputs": [
    {
     "data": {
      "text/plain": [
       "[10, 11, 12, 13, 14, 15, 16, 17, 18, 9]"
      ]
     },
     "execution_count": 45,
     "metadata": {},
     "output_type": "execute_result"
    }
   ],
   "source": [
    "li2"
   ]
  },
  {
   "cell_type": "code",
   "execution_count": 46,
   "id": "dd374519",
   "metadata": {},
   "outputs": [
    {
     "data": {
      "text/plain": [
       "9"
      ]
     },
     "execution_count": 46,
     "metadata": {},
     "output_type": "execute_result"
    }
   ],
   "source": [
    "li1.pop()"
   ]
  },
  {
   "cell_type": "code",
   "execution_count": 47,
   "id": "1def547c",
   "metadata": {},
   "outputs": [
    {
     "data": {
      "text/plain": [
       "[10, 11, 12, 13, 14, 15, 16, 17, 18]"
      ]
     },
     "execution_count": 47,
     "metadata": {},
     "output_type": "execute_result"
    }
   ],
   "source": [
    "li1"
   ]
  },
  {
   "cell_type": "code",
   "execution_count": 48,
   "id": "5a1b3036",
   "metadata": {},
   "outputs": [
    {
     "data": {
      "text/plain": [
       "[10, 11, 12, 13, 14, 15, 16, 17, 18]"
      ]
     },
     "execution_count": 48,
     "metadata": {},
     "output_type": "execute_result"
    }
   ],
   "source": [
    "li2"
   ]
  },
  {
   "cell_type": "code",
   "execution_count": 49,
   "id": "984ba818",
   "metadata": {},
   "outputs": [],
   "source": [
    "###Solution of this problem"
   ]
  },
  {
   "cell_type": "code",
   "execution_count": 50,
   "id": "04615cb0",
   "metadata": {},
   "outputs": [],
   "source": [
    "li=[1,2,3,4]\n",
    "li2=[]\n",
    "li2.extend(li)"
   ]
  },
  {
   "cell_type": "code",
   "execution_count": 51,
   "id": "9bd6f5b3",
   "metadata": {},
   "outputs": [
    {
     "data": {
      "text/plain": [
       "[1, 2, 3, 4]"
      ]
     },
     "execution_count": 51,
     "metadata": {},
     "output_type": "execute_result"
    }
   ],
   "source": [
    "li2"
   ]
  },
  {
   "cell_type": "code",
   "execution_count": 52,
   "id": "553e59c3",
   "metadata": {},
   "outputs": [],
   "source": [
    "li3=list(li)"
   ]
  },
  {
   "cell_type": "code",
   "execution_count": 53,
   "id": "85705237",
   "metadata": {},
   "outputs": [
    {
     "data": {
      "text/plain": [
       "[1, 2, 3, 4]"
      ]
     },
     "execution_count": 53,
     "metadata": {},
     "output_type": "execute_result"
    }
   ],
   "source": [
    "li3"
   ]
  },
  {
   "cell_type": "code",
   "execution_count": 54,
   "id": "a2439590",
   "metadata": {},
   "outputs": [],
   "source": [
    "li4=li"
   ]
  },
  {
   "cell_type": "code",
   "execution_count": 55,
   "id": "6037c1f3",
   "metadata": {},
   "outputs": [
    {
     "data": {
      "text/plain": [
       "[1, 2, 3, 4]"
      ]
     },
     "execution_count": 55,
     "metadata": {},
     "output_type": "execute_result"
    }
   ],
   "source": [
    "li4"
   ]
  },
  {
   "cell_type": "code",
   "execution_count": 56,
   "id": "9c530a2e",
   "metadata": {},
   "outputs": [],
   "source": [
    "li[0]=0"
   ]
  },
  {
   "cell_type": "code",
   "execution_count": 57,
   "id": "ce6990cd",
   "metadata": {},
   "outputs": [
    {
     "data": {
      "text/plain": [
       "[0, 2, 3, 4]"
      ]
     },
     "execution_count": 57,
     "metadata": {},
     "output_type": "execute_result"
    }
   ],
   "source": [
    "li"
   ]
  },
  {
   "cell_type": "code",
   "execution_count": 58,
   "id": "f711771e",
   "metadata": {},
   "outputs": [
    {
     "data": {
      "text/plain": [
       "[1, 2, 3, 4]"
      ]
     },
     "execution_count": 58,
     "metadata": {},
     "output_type": "execute_result"
    }
   ],
   "source": [
    "li2"
   ]
  },
  {
   "cell_type": "code",
   "execution_count": 59,
   "id": "9f431e04",
   "metadata": {},
   "outputs": [
    {
     "data": {
      "text/plain": [
       "[1, 2, 3, 4]"
      ]
     },
     "execution_count": 59,
     "metadata": {},
     "output_type": "execute_result"
    }
   ],
   "source": [
    "li3"
   ]
  },
  {
   "cell_type": "code",
   "execution_count": 60,
   "id": "d012bddb",
   "metadata": {},
   "outputs": [
    {
     "data": {
      "text/plain": [
       "[0, 2, 3, 4]"
      ]
     },
     "execution_count": 60,
     "metadata": {},
     "output_type": "execute_result"
    }
   ],
   "source": [
    "li4"
   ]
  },
  {
   "cell_type": "code",
   "execution_count": 61,
   "id": "d5aeaf20",
   "metadata": {},
   "outputs": [],
   "source": [
    "stack=[] "
   ]
  },
  {
   "cell_type": "code",
   "execution_count": 62,
   "id": "e2f889a9",
   "metadata": {},
   "outputs": [],
   "source": [
    "stack.append(2)"
   ]
  },
  {
   "cell_type": "code",
   "execution_count": 63,
   "id": "35739e30",
   "metadata": {},
   "outputs": [
    {
     "data": {
      "text/plain": [
       "[2]"
      ]
     },
     "execution_count": 63,
     "metadata": {},
     "output_type": "execute_result"
    }
   ],
   "source": [
    "stack"
   ]
  },
  {
   "cell_type": "code",
   "execution_count": 64,
   "id": "b7818620",
   "metadata": {},
   "outputs": [],
   "source": [
    "stack.append(3)"
   ]
  },
  {
   "cell_type": "code",
   "execution_count": 65,
   "id": "bac46247",
   "metadata": {},
   "outputs": [],
   "source": [
    "stack.append(5)"
   ]
  },
  {
   "cell_type": "code",
   "execution_count": 66,
   "id": "2c507e21",
   "metadata": {},
   "outputs": [],
   "source": [
    "stack.append(7)"
   ]
  },
  {
   "cell_type": "code",
   "execution_count": 67,
   "id": "7bdbd7f7",
   "metadata": {},
   "outputs": [
    {
     "data": {
      "text/plain": [
       "[2, 3, 5, 7]"
      ]
     },
     "execution_count": 67,
     "metadata": {},
     "output_type": "execute_result"
    }
   ],
   "source": [
    "stack"
   ]
  },
  {
   "cell_type": "code",
   "execution_count": 68,
   "id": "4dabcf77",
   "metadata": {},
   "outputs": [
    {
     "data": {
      "text/plain": [
       "7"
      ]
     },
     "execution_count": 68,
     "metadata": {},
     "output_type": "execute_result"
    }
   ],
   "source": [
    "stack.pop()"
   ]
  },
  {
   "cell_type": "code",
   "execution_count": 69,
   "id": "d86c3a0d",
   "metadata": {},
   "outputs": [
    {
     "data": {
      "text/plain": [
       "[2, 3, 5]"
      ]
     },
     "execution_count": 69,
     "metadata": {},
     "output_type": "execute_result"
    }
   ],
   "source": [
    "stack"
   ]
  },
  {
   "cell_type": "code",
   "execution_count": 70,
   "id": "6a245697",
   "metadata": {},
   "outputs": [],
   "source": [
    "q=[]"
   ]
  },
  {
   "cell_type": "code",
   "execution_count": 71,
   "id": "32c777e8",
   "metadata": {},
   "outputs": [],
   "source": [
    "q.append(1)"
   ]
  },
  {
   "cell_type": "code",
   "execution_count": 72,
   "id": "2eaf55d5",
   "metadata": {},
   "outputs": [],
   "source": [
    "q.append(2)"
   ]
  },
  {
   "cell_type": "code",
   "execution_count": 73,
   "id": "8c3cbd17",
   "metadata": {},
   "outputs": [],
   "source": [
    "q.append(3)"
   ]
  },
  {
   "cell_type": "code",
   "execution_count": 74,
   "id": "9c56bb1d",
   "metadata": {},
   "outputs": [
    {
     "data": {
      "text/plain": [
       "[1, 2, 3]"
      ]
     },
     "execution_count": 74,
     "metadata": {},
     "output_type": "execute_result"
    }
   ],
   "source": [
    "q"
   ]
  },
  {
   "cell_type": "code",
   "execution_count": 75,
   "id": "c5f422c7",
   "metadata": {},
   "outputs": [
    {
     "data": {
      "text/plain": [
       "1"
      ]
     },
     "execution_count": 75,
     "metadata": {},
     "output_type": "execute_result"
    }
   ],
   "source": [
    "q.pop(0)"
   ]
  },
  {
   "cell_type": "code",
   "execution_count": 76,
   "id": "8236feba",
   "metadata": {},
   "outputs": [
    {
     "data": {
      "text/plain": [
       "[2, 3]"
      ]
     },
     "execution_count": 76,
     "metadata": {},
     "output_type": "execute_result"
    }
   ],
   "source": [
    "q"
   ]
  },
  {
   "cell_type": "code",
   "execution_count": 77,
   "id": "8d7749b5",
   "metadata": {},
   "outputs": [],
   "source": [
    "li=list(range(1,21))"
   ]
  },
  {
   "cell_type": "code",
   "execution_count": 78,
   "id": "ea1af9ff",
   "metadata": {},
   "outputs": [
    {
     "data": {
      "text/plain": [
       "[1, 2, 3, 4, 5, 6, 7, 8, 9, 10, 11, 12, 13, 14, 15, 16, 17, 18, 19, 20]"
      ]
     },
     "execution_count": 78,
     "metadata": {},
     "output_type": "execute_result"
    }
   ],
   "source": [
    "li"
   ]
  },
  {
   "cell_type": "code",
   "execution_count": 79,
   "id": "4374b812",
   "metadata": {},
   "outputs": [],
   "source": [
    "even=[]"
   ]
  },
  {
   "cell_type": "code",
   "execution_count": 80,
   "id": "293577f3",
   "metadata": {},
   "outputs": [],
   "source": [
    "for item in li:\n",
    "    if item%2==0:\n",
    "        even.append(item)"
   ]
  },
  {
   "cell_type": "code",
   "execution_count": 81,
   "id": "83d60d62",
   "metadata": {},
   "outputs": [
    {
     "data": {
      "text/plain": [
       "[2, 4, 6, 8, 10, 12, 14, 16, 18, 20]"
      ]
     },
     "execution_count": 81,
     "metadata": {},
     "output_type": "execute_result"
    }
   ],
   "source": [
    "even"
   ]
  },
  {
   "cell_type": "code",
   "execution_count": 82,
   "id": "b7e026c1",
   "metadata": {},
   "outputs": [],
   "source": [
    "odd=[item for item in li if item%2==1]\n"
   ]
  },
  {
   "cell_type": "code",
   "execution_count": 83,
   "id": "42c68f75",
   "metadata": {},
   "outputs": [
    {
     "data": {
      "text/plain": [
       "[1, 3, 5, 7, 9, 11, 13, 15, 17, 19]"
      ]
     },
     "execution_count": 83,
     "metadata": {},
     "output_type": "execute_result"
    }
   ],
   "source": [
    "odd"
   ]
  },
  {
   "cell_type": "code",
   "execution_count": 84,
   "id": "46f86d3c",
   "metadata": {},
   "outputs": [],
   "source": [
    "###tuple"
   ]
  },
  {
   "cell_type": "code",
   "execution_count": 85,
   "id": "a4deb7bf",
   "metadata": {},
   "outputs": [],
   "source": [
    "tpl=()"
   ]
  },
  {
   "cell_type": "code",
   "execution_count": 86,
   "id": "2b172cca",
   "metadata": {},
   "outputs": [
    {
     "data": {
      "text/plain": [
       "()"
      ]
     },
     "execution_count": 86,
     "metadata": {},
     "output_type": "execute_result"
    }
   ],
   "source": [
    "tpl"
   ]
  },
  {
   "cell_type": "code",
   "execution_count": 87,
   "id": "84748aca",
   "metadata": {},
   "outputs": [],
   "source": [
    "tpl=(1,2,3,[1,2,3])"
   ]
  },
  {
   "cell_type": "code",
   "execution_count": 88,
   "id": "9ec99e61",
   "metadata": {},
   "outputs": [
    {
     "data": {
      "text/plain": [
       "(1, 2, 3, [1, 2, 3])"
      ]
     },
     "execution_count": 88,
     "metadata": {},
     "output_type": "execute_result"
    }
   ],
   "source": [
    "tpl"
   ]
  },
  {
   "cell_type": "code",
   "execution_count": 89,
   "id": "6ec9a584",
   "metadata": {},
   "outputs": [
    {
     "data": {
      "text/plain": [
       "2"
      ]
     },
     "execution_count": 89,
     "metadata": {},
     "output_type": "execute_result"
    }
   ],
   "source": [
    "tpl[1]"
   ]
  },
  {
   "cell_type": "code",
   "execution_count": 90,
   "id": "d9f5849a",
   "metadata": {},
   "outputs": [
    {
     "data": {
      "text/plain": [
       "[1, 2, 3]"
      ]
     },
     "execution_count": 90,
     "metadata": {},
     "output_type": "execute_result"
    }
   ],
   "source": [
    "tpl[3]"
   ]
  },
  {
   "cell_type": "code",
   "execution_count": 91,
   "id": "3f278987",
   "metadata": {},
   "outputs": [
    {
     "data": {
      "text/plain": [
       "3"
      ]
     },
     "execution_count": 91,
     "metadata": {},
     "output_type": "execute_result"
    }
   ],
   "source": [
    "tpl[3][2]"
   ]
  },
  {
   "cell_type": "code",
   "execution_count": 92,
   "id": "54f82b07",
   "metadata": {},
   "outputs": [],
   "source": [
    "###tuple is not mutable"
   ]
  },
  {
   "cell_type": "code",
   "execution_count": 93,
   "id": "41f15552",
   "metadata": {},
   "outputs": [],
   "source": [
    "t=(1,2,3)"
   ]
  },
  {
   "cell_type": "code",
   "execution_count": 94,
   "id": "dedf986f",
   "metadata": {},
   "outputs": [],
   "source": [
    "a,b,c=t"
   ]
  },
  {
   "cell_type": "code",
   "execution_count": 95,
   "id": "d3ad9e01",
   "metadata": {},
   "outputs": [
    {
     "data": {
      "text/plain": [
       "1"
      ]
     },
     "execution_count": 95,
     "metadata": {},
     "output_type": "execute_result"
    }
   ],
   "source": [
    "a"
   ]
  },
  {
   "cell_type": "code",
   "execution_count": 96,
   "id": "2b11daa1",
   "metadata": {},
   "outputs": [
    {
     "data": {
      "text/plain": [
       "2"
      ]
     },
     "execution_count": 96,
     "metadata": {},
     "output_type": "execute_result"
    }
   ],
   "source": [
    "b"
   ]
  },
  {
   "cell_type": "code",
   "execution_count": 97,
   "id": "c7c5e6b3",
   "metadata": {},
   "outputs": [
    {
     "data": {
      "text/plain": [
       "3"
      ]
     },
     "execution_count": 97,
     "metadata": {},
     "output_type": "execute_result"
    }
   ],
   "source": [
    "c"
   ]
  },
  {
   "cell_type": "code",
   "execution_count": 98,
   "id": "f2c87ad1",
   "metadata": {},
   "outputs": [],
   "source": [
    "x=5\n",
    "y=8\n",
    "t=x,y"
   ]
  },
  {
   "cell_type": "code",
   "execution_count": 99,
   "id": "89d7a4ea",
   "metadata": {},
   "outputs": [
    {
     "data": {
      "text/plain": [
       "(5, 8)"
      ]
     },
     "execution_count": 99,
     "metadata": {},
     "output_type": "execute_result"
    }
   ],
   "source": [
    "t"
   ]
  },
  {
   "cell_type": "code",
   "execution_count": 100,
   "id": "74dca043",
   "metadata": {},
   "outputs": [],
   "source": [
    "tpl=(1,2,3,'string',3.5)"
   ]
  },
  {
   "cell_type": "code",
   "execution_count": 101,
   "id": "943dbee9",
   "metadata": {},
   "outputs": [
    {
     "data": {
      "text/plain": [
       "(1, 2, 3, 'string', 3.5)"
      ]
     },
     "execution_count": 101,
     "metadata": {},
     "output_type": "execute_result"
    }
   ],
   "source": [
    "tpl"
   ]
  },
  {
   "cell_type": "code",
   "execution_count": 102,
   "id": "b3ee00b4",
   "metadata": {},
   "outputs": [
    {
     "data": {
      "text/plain": [
       "tuple"
      ]
     },
     "execution_count": 102,
     "metadata": {},
     "output_type": "execute_result"
    }
   ],
   "source": [
    "type(tpl)"
   ]
  },
  {
   "cell_type": "code",
   "execution_count": 103,
   "id": "b4d6c471",
   "metadata": {},
   "outputs": [
    {
     "data": {
      "text/plain": [
       "'string'"
      ]
     },
     "execution_count": 103,
     "metadata": {},
     "output_type": "execute_result"
    }
   ],
   "source": [
    "tpl[3]"
   ]
  },
  {
   "cell_type": "code",
   "execution_count": 104,
   "id": "dd9332a3",
   "metadata": {},
   "outputs": [
    {
     "data": {
      "text/plain": [
       "3.5"
      ]
     },
     "execution_count": 104,
     "metadata": {},
     "output_type": "execute_result"
    }
   ],
   "source": [
    "tpl[4]"
   ]
  },
  {
   "cell_type": "code",
   "execution_count": 105,
   "id": "68b02d41",
   "metadata": {},
   "outputs": [
    {
     "data": {
      "text/plain": [
       "3.5"
      ]
     },
     "execution_count": 105,
     "metadata": {},
     "output_type": "execute_result"
    }
   ],
   "source": [
    "tpl[-1]"
   ]
  },
  {
   "cell_type": "code",
   "execution_count": 106,
   "id": "23fb10bd",
   "metadata": {},
   "outputs": [
    {
     "data": {
      "text/plain": [
       "3"
      ]
     },
     "execution_count": 106,
     "metadata": {},
     "output_type": "execute_result"
    }
   ],
   "source": [
    "tpl[-3]"
   ]
  },
  {
   "cell_type": "code",
   "execution_count": 107,
   "id": "6823c071",
   "metadata": {},
   "outputs": [],
   "source": [
    "###Type casting to list"
   ]
  },
  {
   "cell_type": "code",
   "execution_count": 108,
   "id": "c88f2141",
   "metadata": {},
   "outputs": [],
   "source": [
    "li=list(tpl)"
   ]
  },
  {
   "cell_type": "code",
   "execution_count": 109,
   "id": "65f1b189",
   "metadata": {},
   "outputs": [
    {
     "data": {
      "text/plain": [
       "[1, 2, 3, 'string', 3.5]"
      ]
     },
     "execution_count": 109,
     "metadata": {},
     "output_type": "execute_result"
    }
   ],
   "source": [
    "li"
   ]
  },
  {
   "cell_type": "code",
   "execution_count": 110,
   "id": "ad6d0f33",
   "metadata": {},
   "outputs": [
    {
     "data": {
      "text/plain": [
       "list"
      ]
     },
     "execution_count": 110,
     "metadata": {},
     "output_type": "execute_result"
    }
   ],
   "source": [
    "type(li)"
   ]
  },
  {
   "cell_type": "code",
   "execution_count": 111,
   "id": "23ed8e6c",
   "metadata": {},
   "outputs": [],
   "source": [
    "tpl_new=1,2,3"
   ]
  },
  {
   "cell_type": "code",
   "execution_count": 112,
   "id": "e4180916",
   "metadata": {},
   "outputs": [
    {
     "data": {
      "text/plain": [
       "(1, 2, 3)"
      ]
     },
     "execution_count": 112,
     "metadata": {},
     "output_type": "execute_result"
    }
   ],
   "source": [
    "tpl_new"
   ]
  },
  {
   "cell_type": "code",
   "execution_count": 113,
   "id": "b1506d72",
   "metadata": {},
   "outputs": [
    {
     "data": {
      "text/plain": [
       "tuple"
      ]
     },
     "execution_count": 113,
     "metadata": {},
     "output_type": "execute_result"
    }
   ],
   "source": [
    "type(tpl_new)"
   ]
  },
  {
   "cell_type": "code",
   "execution_count": 114,
   "id": "784ff4fd",
   "metadata": {},
   "outputs": [],
   "source": [
    "a,b,c=tpl_new\n",
    "\n",
    "\n"
   ]
  },
  {
   "cell_type": "code",
   "execution_count": 115,
   "id": "4ed1e41d",
   "metadata": {},
   "outputs": [
    {
     "data": {
      "text/plain": [
       "(1, 2, 3)"
      ]
     },
     "execution_count": 115,
     "metadata": {},
     "output_type": "execute_result"
    }
   ],
   "source": [
    "tpl_new"
   ]
  },
  {
   "cell_type": "code",
   "execution_count": 116,
   "id": "4637eb32",
   "metadata": {},
   "outputs": [
    {
     "data": {
      "text/plain": [
       "1"
      ]
     },
     "execution_count": 116,
     "metadata": {},
     "output_type": "execute_result"
    }
   ],
   "source": [
    "a"
   ]
  },
  {
   "cell_type": "code",
   "execution_count": 117,
   "id": "5bc78c57",
   "metadata": {},
   "outputs": [
    {
     "data": {
      "text/plain": [
       "2"
      ]
     },
     "execution_count": 117,
     "metadata": {},
     "output_type": "execute_result"
    }
   ],
   "source": [
    "b"
   ]
  },
  {
   "cell_type": "code",
   "execution_count": 118,
   "id": "4398dbcd",
   "metadata": {},
   "outputs": [
    {
     "data": {
      "text/plain": [
       "3"
      ]
     },
     "execution_count": 118,
     "metadata": {},
     "output_type": "execute_result"
    }
   ],
   "source": [
    "c"
   ]
  },
  {
   "cell_type": "code",
   "execution_count": 119,
   "id": "da404808",
   "metadata": {},
   "outputs": [],
   "source": [
    "#this is  unpack\n"
   ]
  },
  {
   "cell_type": "code",
   "execution_count": 120,
   "id": "a08e4473",
   "metadata": {},
   "outputs": [],
   "source": [
    "t=1"
   ]
  },
  {
   "cell_type": "code",
   "execution_count": 121,
   "id": "4466d364",
   "metadata": {},
   "outputs": [
    {
     "data": {
      "text/plain": [
       "int"
      ]
     },
     "execution_count": 121,
     "metadata": {},
     "output_type": "execute_result"
    }
   ],
   "source": [
    "type(t)"
   ]
  },
  {
   "cell_type": "code",
   "execution_count": 122,
   "id": "5a39119c",
   "metadata": {},
   "outputs": [],
   "source": [
    "t=(1,)"
   ]
  },
  {
   "cell_type": "code",
   "execution_count": 123,
   "id": "acbaf920",
   "metadata": {},
   "outputs": [
    {
     "data": {
      "text/plain": [
       "tuple"
      ]
     },
     "execution_count": 123,
     "metadata": {},
     "output_type": "execute_result"
    }
   ],
   "source": [
    "type(t)"
   ]
  },
  {
   "cell_type": "code",
   "execution_count": 124,
   "id": "6ae3fb96",
   "metadata": {},
   "outputs": [
    {
     "data": {
      "text/plain": [
       "(1, 2, 3, 'string', 3.5)"
      ]
     },
     "execution_count": 124,
     "metadata": {},
     "output_type": "execute_result"
    }
   ],
   "source": [
    "tpl"
   ]
  },
  {
   "cell_type": "code",
   "execution_count": 125,
   "id": "4a737941",
   "metadata": {},
   "outputs": [
    {
     "name": "stdout",
     "output_type": "stream",
     "text": [
      "1\n",
      "2\n",
      "3\n",
      "string\n",
      "3.5\n"
     ]
    }
   ],
   "source": [
    "for i in tpl:\n",
    "    print(i)"
   ]
  },
  {
   "cell_type": "code",
   "execution_count": 126,
   "id": "6930ed5f",
   "metadata": {},
   "outputs": [
    {
     "data": {
      "text/plain": [
       "(1, 2, 3)"
      ]
     },
     "execution_count": 126,
     "metadata": {},
     "output_type": "execute_result"
    }
   ],
   "source": [
    "tpl_new"
   ]
  },
  {
   "cell_type": "code",
   "execution_count": 127,
   "id": "33e60a88",
   "metadata": {},
   "outputs": [
    {
     "data": {
      "text/plain": [
       "1"
      ]
     },
     "execution_count": 127,
     "metadata": {},
     "output_type": "execute_result"
    }
   ],
   "source": [
    "tpl_new[0]"
   ]
  },
  {
   "cell_type": "code",
   "execution_count": 128,
   "id": "a68b6993",
   "metadata": {},
   "outputs": [
    {
     "ename": "TypeError",
     "evalue": "'tuple' object does not support item assignment",
     "output_type": "error",
     "traceback": [
      "\u001b[1;31m---------------------------------------------------------------------------\u001b[0m",
      "\u001b[1;31mTypeError\u001b[0m                                 Traceback (most recent call last)",
      "\u001b[1;32m<ipython-input-128-d64085b8d259>\u001b[0m in \u001b[0;36m<module>\u001b[1;34m\u001b[0m\n\u001b[1;32m----> 1\u001b[1;33m \u001b[0mtpl_new\u001b[0m\u001b[1;33m[\u001b[0m\u001b[1;36m0\u001b[0m\u001b[1;33m]\u001b[0m\u001b[1;33m=\u001b[0m\u001b[1;36m7\u001b[0m\u001b[1;33m\u001b[0m\u001b[1;33m\u001b[0m\u001b[0m\n\u001b[0m",
      "\u001b[1;31mTypeError\u001b[0m: 'tuple' object does not support item assignment"
     ]
    }
   ],
   "source": [
    "tpl_new[0]=7"
   ]
  },
  {
   "cell_type": "code",
   "execution_count": 129,
   "id": "292d4d3a",
   "metadata": {},
   "outputs": [],
   "source": [
    "##becaue not mutable"
   ]
  },
  {
   "cell_type": "code",
   "execution_count": 130,
   "id": "092ba448",
   "metadata": {},
   "outputs": [],
   "source": [
    "li=[1,2,3,[4,5,6]]"
   ]
  },
  {
   "cell_type": "code",
   "execution_count": 131,
   "id": "67b018a5",
   "metadata": {},
   "outputs": [
    {
     "data": {
      "text/plain": [
       "[1, 2, 3, [4, 5, 6]]"
      ]
     },
     "execution_count": 131,
     "metadata": {},
     "output_type": "execute_result"
    }
   ],
   "source": [
    "li"
   ]
  },
  {
   "cell_type": "code",
   "execution_count": 132,
   "id": "fd3de05e",
   "metadata": {},
   "outputs": [
    {
     "name": "stdout",
     "output_type": "stream",
     "text": [
      "1\n",
      "2\n",
      "3\n",
      "[4, 5, 6]\n"
     ]
    }
   ],
   "source": [
    "for i in li:\n",
    "    print(i)"
   ]
  },
  {
   "cell_type": "code",
   "execution_count": 133,
   "id": "be0713ef",
   "metadata": {},
   "outputs": [],
   "source": [
    "tpl=(1,2,3,(4,5,6))"
   ]
  },
  {
   "cell_type": "code",
   "execution_count": 134,
   "id": "c6cbf195",
   "metadata": {},
   "outputs": [
    {
     "name": "stdout",
     "output_type": "stream",
     "text": [
      "1\n",
      "2\n",
      "3\n",
      "(4, 5, 6)\n"
     ]
    }
   ],
   "source": [
    "for i in tpl:\n",
    "    print(i)"
   ]
  },
  {
   "cell_type": "code",
   "execution_count": 135,
   "id": "4d3f406a",
   "metadata": {},
   "outputs": [],
   "source": [
    "#So both can be nested"
   ]
  },
  {
   "cell_type": "code",
   "execution_count": 136,
   "id": "f0c1bab8",
   "metadata": {},
   "outputs": [],
   "source": [
    "###Set"
   ]
  },
  {
   "cell_type": "code",
   "execution_count": 137,
   "id": "d38f3195",
   "metadata": {},
   "outputs": [],
   "source": [
    "a=set()"
   ]
  },
  {
   "cell_type": "code",
   "execution_count": 138,
   "id": "d9e0acac",
   "metadata": {},
   "outputs": [
    {
     "data": {
      "text/plain": [
       "set()"
      ]
     },
     "execution_count": 138,
     "metadata": {},
     "output_type": "execute_result"
    }
   ],
   "source": [
    "a"
   ]
  },
  {
   "cell_type": "code",
   "execution_count": 139,
   "id": "6be1d690",
   "metadata": {},
   "outputs": [
    {
     "data": {
      "text/plain": [
       "set"
      ]
     },
     "execution_count": 139,
     "metadata": {},
     "output_type": "execute_result"
    }
   ],
   "source": [
    "type(a)"
   ]
  },
  {
   "cell_type": "code",
   "execution_count": 140,
   "id": "52df1c8f",
   "metadata": {},
   "outputs": [
    {
     "ename": "TypeError",
     "evalue": "set expected at most 1 argument, got 3",
     "output_type": "error",
     "traceback": [
      "\u001b[1;31m---------------------------------------------------------------------------\u001b[0m",
      "\u001b[1;31mTypeError\u001b[0m                                 Traceback (most recent call last)",
      "\u001b[1;32m<ipython-input-140-66c76ba282cb>\u001b[0m in \u001b[0;36m<module>\u001b[1;34m\u001b[0m\n\u001b[1;32m----> 1\u001b[1;33m \u001b[0ma\u001b[0m\u001b[1;33m=\u001b[0m\u001b[0mset\u001b[0m\u001b[1;33m(\u001b[0m\u001b[1;36m1\u001b[0m\u001b[1;33m,\u001b[0m\u001b[1;36m2\u001b[0m\u001b[1;33m,\u001b[0m\u001b[1;36m3\u001b[0m\u001b[1;33m)\u001b[0m\u001b[1;33m\u001b[0m\u001b[1;33m\u001b[0m\u001b[0m\n\u001b[0m",
      "\u001b[1;31mTypeError\u001b[0m: set expected at most 1 argument, got 3"
     ]
    }
   ],
   "source": [
    "a=set(1,2,3)"
   ]
  },
  {
   "cell_type": "code",
   "execution_count": 141,
   "id": "4bf57f15",
   "metadata": {},
   "outputs": [
    {
     "ename": "TypeError",
     "evalue": "'int' object is not iterable",
     "output_type": "error",
     "traceback": [
      "\u001b[1;31m---------------------------------------------------------------------------\u001b[0m",
      "\u001b[1;31mTypeError\u001b[0m                                 Traceback (most recent call last)",
      "\u001b[1;32m<ipython-input-141-78e466567d6a>\u001b[0m in \u001b[0;36m<module>\u001b[1;34m\u001b[0m\n\u001b[1;32m----> 1\u001b[1;33m \u001b[0ma\u001b[0m\u001b[1;33m=\u001b[0m\u001b[0mset\u001b[0m\u001b[1;33m(\u001b[0m\u001b[1;36m1\u001b[0m\u001b[1;33m)\u001b[0m\u001b[1;33m\u001b[0m\u001b[1;33m\u001b[0m\u001b[0m\n\u001b[0m",
      "\u001b[1;31mTypeError\u001b[0m: 'int' object is not iterable"
     ]
    }
   ],
   "source": [
    "a=set(1)"
   ]
  },
  {
   "cell_type": "code",
   "execution_count": 142,
   "id": "60552b34",
   "metadata": {},
   "outputs": [],
   "source": [
    "#as iterable is asked, lets try tuple and list"
   ]
  },
  {
   "cell_type": "code",
   "execution_count": 143,
   "id": "1c5e60a8",
   "metadata": {},
   "outputs": [],
   "source": [
    "tpl=(1,2,3,4,5)"
   ]
  },
  {
   "cell_type": "code",
   "execution_count": 144,
   "id": "447c6f6f",
   "metadata": {},
   "outputs": [],
   "source": [
    "a=set(tpl)"
   ]
  },
  {
   "cell_type": "code",
   "execution_count": 145,
   "id": "dc234220",
   "metadata": {},
   "outputs": [
    {
     "data": {
      "text/plain": [
       "{1, 2, 3, 4, 5}"
      ]
     },
     "execution_count": 145,
     "metadata": {},
     "output_type": "execute_result"
    }
   ],
   "source": [
    "a"
   ]
  },
  {
   "cell_type": "code",
   "execution_count": 146,
   "id": "7c21e86e",
   "metadata": {},
   "outputs": [],
   "source": [
    "li=[2,3,5,7]"
   ]
  },
  {
   "cell_type": "code",
   "execution_count": 147,
   "id": "10e4870b",
   "metadata": {},
   "outputs": [],
   "source": [
    "b=set(li)"
   ]
  },
  {
   "cell_type": "code",
   "execution_count": 148,
   "id": "df1e6095",
   "metadata": {},
   "outputs": [
    {
     "data": {
      "text/plain": [
       "set"
      ]
     },
     "execution_count": 148,
     "metadata": {},
     "output_type": "execute_result"
    }
   ],
   "source": [
    "type(b)"
   ]
  },
  {
   "cell_type": "code",
   "execution_count": 149,
   "id": "74ba42f4",
   "metadata": {},
   "outputs": [
    {
     "data": {
      "text/plain": [
       "{2, 3, 5, 7}"
      ]
     },
     "execution_count": 149,
     "metadata": {},
     "output_type": "execute_result"
    }
   ],
   "source": [
    "b"
   ]
  },
  {
   "cell_type": "code",
   "execution_count": 150,
   "id": "c8f888c6",
   "metadata": {},
   "outputs": [],
   "source": [
    "#so one parameter and that should be iterable"
   ]
  },
  {
   "cell_type": "code",
   "execution_count": 151,
   "id": "81b14cff",
   "metadata": {},
   "outputs": [
    {
     "data": {
      "text/plain": [
       "{1, 2, 3, 4, 5, 7}"
      ]
     },
     "execution_count": 151,
     "metadata": {},
     "output_type": "execute_result"
    }
   ],
   "source": [
    "a|b"
   ]
  },
  {
   "cell_type": "code",
   "execution_count": 152,
   "id": "8fbc92ba",
   "metadata": {},
   "outputs": [
    {
     "data": {
      "text/plain": [
       "{2, 3, 5}"
      ]
     },
     "execution_count": 152,
     "metadata": {},
     "output_type": "execute_result"
    }
   ],
   "source": [
    "a&b"
   ]
  },
  {
   "cell_type": "code",
   "execution_count": 153,
   "id": "8feca22a",
   "metadata": {},
   "outputs": [
    {
     "data": {
      "text/plain": [
       "{1, 4, 7}"
      ]
     },
     "execution_count": 153,
     "metadata": {},
     "output_type": "execute_result"
    }
   ],
   "source": [
    "a ^ b"
   ]
  },
  {
   "cell_type": "code",
   "execution_count": 154,
   "id": "3d83b648",
   "metadata": {},
   "outputs": [
    {
     "name": "stdout",
     "output_type": "stream",
     "text": [
      "{1, 4, 7}\n"
     ]
    }
   ],
   "source": [
    "print(a^b)"
   ]
  },
  {
   "cell_type": "code",
   "execution_count": 155,
   "id": "e5820a29",
   "metadata": {},
   "outputs": [
    {
     "data": {
      "text/plain": [
       "False"
      ]
     },
     "execution_count": 155,
     "metadata": {},
     "output_type": "execute_result"
    }
   ],
   "source": [
    "7 in a"
   ]
  },
  {
   "cell_type": "code",
   "execution_count": 156,
   "id": "16807b23",
   "metadata": {},
   "outputs": [
    {
     "data": {
      "text/plain": [
       "True"
      ]
     },
     "execution_count": 156,
     "metadata": {},
     "output_type": "execute_result"
    }
   ],
   "source": [
    "7 in b"
   ]
  },
  {
   "cell_type": "code",
   "execution_count": 157,
   "id": "a4c40fa3",
   "metadata": {},
   "outputs": [],
   "source": [
    "##a string is iterable as well, so it can be used as well"
   ]
  },
  {
   "cell_type": "code",
   "execution_count": 158,
   "id": "266129cd",
   "metadata": {},
   "outputs": [],
   "source": [
    "c=set('abcd')"
   ]
  },
  {
   "cell_type": "code",
   "execution_count": 159,
   "id": "f535ae65",
   "metadata": {},
   "outputs": [
    {
     "data": {
      "text/plain": [
       "{'a', 'b', 'c', 'd'}"
      ]
     },
     "execution_count": 159,
     "metadata": {},
     "output_type": "execute_result"
    }
   ],
   "source": [
    "c"
   ]
  },
  {
   "cell_type": "code",
   "execution_count": 160,
   "id": "df6a2395",
   "metadata": {},
   "outputs": [],
   "source": [
    "#one use of set is to remove duplicate"
   ]
  },
  {
   "cell_type": "code",
   "execution_count": 161,
   "id": "deb246e4",
   "metadata": {},
   "outputs": [],
   "source": [
    "li=[1,1,2,2,2,4,3,5,2,2,3,7,8,9]"
   ]
  },
  {
   "cell_type": "code",
   "execution_count": 162,
   "id": "dcc2855d",
   "metadata": {},
   "outputs": [
    {
     "data": {
      "text/plain": [
       "[1, 1, 2, 2, 2, 4, 3, 5, 2, 2, 3, 7, 8, 9]"
      ]
     },
     "execution_count": 162,
     "metadata": {},
     "output_type": "execute_result"
    }
   ],
   "source": [
    "li"
   ]
  },
  {
   "cell_type": "code",
   "execution_count": 163,
   "id": "8ebe0846",
   "metadata": {},
   "outputs": [],
   "source": [
    "k=set(li)"
   ]
  },
  {
   "cell_type": "code",
   "execution_count": 164,
   "id": "d0c09e44",
   "metadata": {},
   "outputs": [
    {
     "data": {
      "text/plain": [
       "{1, 2, 3, 4, 5, 7, 8, 9}"
      ]
     },
     "execution_count": 164,
     "metadata": {},
     "output_type": "execute_result"
    }
   ],
   "source": [
    "k"
   ]
  },
  {
   "cell_type": "code",
   "execution_count": 165,
   "id": "1967537c",
   "metadata": {},
   "outputs": [
    {
     "data": {
      "text/plain": [
       "[1, 1, 2, 2, 2, 4, 3, 5, 2, 2, 3, 7, 8, 9]"
      ]
     },
     "execution_count": 165,
     "metadata": {},
     "output_type": "execute_result"
    }
   ],
   "source": [
    "li"
   ]
  },
  {
   "cell_type": "code",
   "execution_count": 166,
   "id": "f47d5631",
   "metadata": {},
   "outputs": [],
   "source": [
    "li=list(set(li))"
   ]
  },
  {
   "cell_type": "code",
   "execution_count": 167,
   "id": "ca23c7e4",
   "metadata": {},
   "outputs": [
    {
     "data": {
      "text/plain": [
       "[1, 2, 3, 4, 5, 7, 8, 9]"
      ]
     },
     "execution_count": 167,
     "metadata": {},
     "output_type": "execute_result"
    }
   ],
   "source": [
    "li"
   ]
  },
  {
   "cell_type": "code",
   "execution_count": 168,
   "id": "2f74788b",
   "metadata": {},
   "outputs": [],
   "source": [
    "#dictionary"
   ]
  },
  {
   "cell_type": "code",
   "execution_count": 169,
   "id": "b1edade7",
   "metadata": {},
   "outputs": [],
   "source": [
    "dt={'a':'A','b':'B'}"
   ]
  },
  {
   "cell_type": "code",
   "execution_count": 170,
   "id": "819aa9f7",
   "metadata": {},
   "outputs": [
    {
     "data": {
      "text/plain": [
       "{'a': 'A', 'b': 'B'}"
      ]
     },
     "execution_count": 170,
     "metadata": {},
     "output_type": "execute_result"
    }
   ],
   "source": [
    "dt"
   ]
  },
  {
   "cell_type": "code",
   "execution_count": 171,
   "id": "8e348335",
   "metadata": {},
   "outputs": [
    {
     "data": {
      "text/plain": [
       "'A'"
      ]
     },
     "execution_count": 171,
     "metadata": {},
     "output_type": "execute_result"
    }
   ],
   "source": [
    "dt['a']"
   ]
  },
  {
   "cell_type": "code",
   "execution_count": 172,
   "id": "d4b0b594",
   "metadata": {},
   "outputs": [
    {
     "data": {
      "text/plain": [
       "'B'"
      ]
     },
     "execution_count": 172,
     "metadata": {},
     "output_type": "execute_result"
    }
   ],
   "source": [
    "dt['b']"
   ]
  },
  {
   "cell_type": "code",
   "execution_count": 173,
   "id": "8d84bb9b",
   "metadata": {},
   "outputs": [],
   "source": [
    "result={1:90,2:95,3:98}"
   ]
  },
  {
   "cell_type": "code",
   "execution_count": 174,
   "id": "2422944b",
   "metadata": {},
   "outputs": [
    {
     "data": {
      "text/plain": [
       "98"
      ]
     },
     "execution_count": 174,
     "metadata": {},
     "output_type": "execute_result"
    }
   ],
   "source": [
    "result[3]"
   ]
  },
  {
   "cell_type": "code",
   "execution_count": 175,
   "id": "edd06a5d",
   "metadata": {},
   "outputs": [],
   "source": [
    "#key should be something not-mutable as string, tuple"
   ]
  },
  {
   "cell_type": "code",
   "execution_count": 176,
   "id": "3c8d2430",
   "metadata": {},
   "outputs": [],
   "source": [
    "result['rafi']=95"
   ]
  },
  {
   "cell_type": "code",
   "execution_count": 177,
   "id": "916a50f8",
   "metadata": {},
   "outputs": [
    {
     "data": {
      "text/plain": [
       "{1: 90, 2: 95, 3: 98, 'rafi': 95}"
      ]
     },
     "execution_count": 177,
     "metadata": {},
     "output_type": "execute_result"
    }
   ],
   "source": [
    "result"
   ]
  },
  {
   "cell_type": "code",
   "execution_count": 178,
   "id": "2423ffd4",
   "metadata": {},
   "outputs": [],
   "source": [
    "result['rafi']=97"
   ]
  },
  {
   "cell_type": "code",
   "execution_count": 179,
   "id": "01cca4c8",
   "metadata": {},
   "outputs": [
    {
     "data": {
      "text/plain": [
       "{1: 90, 2: 95, 3: 98, 'rafi': 97}"
      ]
     },
     "execution_count": 179,
     "metadata": {},
     "output_type": "execute_result"
    }
   ],
   "source": [
    "result"
   ]
  },
  {
   "cell_type": "code",
   "execution_count": 180,
   "id": "998b935c",
   "metadata": {},
   "outputs": [],
   "source": [
    "div={'dhaka':10,\"chit\":15, 'sylhet':8, 'khulna':20,'Rajshahi':12, \"rangpur\":10,'barishal':8}"
   ]
  },
  {
   "cell_type": "code",
   "execution_count": 181,
   "id": "fed95abe",
   "metadata": {},
   "outputs": [
    {
     "data": {
      "text/plain": [
       "{'dhaka': 10,\n",
       " 'chit': 15,\n",
       " 'sylhet': 8,\n",
       " 'khulna': 20,\n",
       " 'Rajshahi': 12,\n",
       " 'rangpur': 10,\n",
       " 'barishal': 8}"
      ]
     },
     "execution_count": 181,
     "metadata": {},
     "output_type": "execute_result"
    }
   ],
   "source": [
    "div"
   ]
  },
  {
   "cell_type": "code",
   "execution_count": 182,
   "id": "9ef03aaf",
   "metadata": {},
   "outputs": [
    {
     "data": {
      "text/plain": [
       "dict"
      ]
     },
     "execution_count": 182,
     "metadata": {},
     "output_type": "execute_result"
    }
   ],
   "source": [
    "type(div)"
   ]
  },
  {
   "cell_type": "code",
   "execution_count": 183,
   "id": "254b2775",
   "metadata": {},
   "outputs": [
    {
     "data": {
      "text/plain": [
       "10"
      ]
     },
     "execution_count": 183,
     "metadata": {},
     "output_type": "execute_result"
    }
   ],
   "source": [
    "div['dhaka']"
   ]
  },
  {
   "cell_type": "code",
   "execution_count": 184,
   "id": "8b6f1461",
   "metadata": {},
   "outputs": [],
   "source": [
    "div['dhaka']=15"
   ]
  },
  {
   "cell_type": "code",
   "execution_count": 185,
   "id": "e2ef6637",
   "metadata": {},
   "outputs": [
    {
     "data": {
      "text/plain": [
       "{'dhaka': 15,\n",
       " 'chit': 15,\n",
       " 'sylhet': 8,\n",
       " 'khulna': 20,\n",
       " 'Rajshahi': 12,\n",
       " 'rangpur': 10,\n",
       " 'barishal': 8}"
      ]
     },
     "execution_count": 185,
     "metadata": {},
     "output_type": "execute_result"
    }
   ],
   "source": [
    "div"
   ]
  },
  {
   "cell_type": "code",
   "execution_count": 186,
   "id": "aef30b16",
   "metadata": {},
   "outputs": [],
   "source": [
    "del div['khulna']"
   ]
  },
  {
   "cell_type": "code",
   "execution_count": 187,
   "id": "ab0d80ef",
   "metadata": {},
   "outputs": [
    {
     "data": {
      "text/plain": [
       "{'dhaka': 15,\n",
       " 'chit': 15,\n",
       " 'sylhet': 8,\n",
       " 'Rajshahi': 12,\n",
       " 'rangpur': 10,\n",
       " 'barishal': 8}"
      ]
     },
     "execution_count": 187,
     "metadata": {},
     "output_type": "execute_result"
    }
   ],
   "source": [
    "div"
   ]
  },
  {
   "cell_type": "code",
   "execution_count": 188,
   "id": "926faf81",
   "metadata": {},
   "outputs": [],
   "source": [
    "div['khulna']=25"
   ]
  },
  {
   "cell_type": "code",
   "execution_count": 189,
   "id": "da27f694",
   "metadata": {},
   "outputs": [
    {
     "data": {
      "text/plain": [
       "{'dhaka': 15,\n",
       " 'chit': 15,\n",
       " 'sylhet': 8,\n",
       " 'Rajshahi': 12,\n",
       " 'rangpur': 10,\n",
       " 'barishal': 8,\n",
       " 'khulna': 25}"
      ]
     },
     "execution_count": 189,
     "metadata": {},
     "output_type": "execute_result"
    }
   ],
   "source": [
    "div"
   ]
  },
  {
   "cell_type": "code",
   "execution_count": 190,
   "id": "a088f592",
   "metadata": {},
   "outputs": [],
   "source": [
    "div['mymensingh']=12"
   ]
  },
  {
   "cell_type": "code",
   "execution_count": 193,
   "id": "dbd46bf7",
   "metadata": {},
   "outputs": [
    {
     "data": {
      "text/plain": [
       "{'dhaka': 15,\n",
       " 'chit': 15,\n",
       " 'sylhet': 8,\n",
       " 'Rajshahi': 12,\n",
       " 'rangpur': 10,\n",
       " 'barishal': 8,\n",
       " 'khulna': 25,\n",
       " 'mymensingh': 12}"
      ]
     },
     "execution_count": 193,
     "metadata": {},
     "output_type": "execute_result"
    }
   ],
   "source": [
    "div"
   ]
  },
  {
   "cell_type": "code",
   "execution_count": 197,
   "id": "439ac74f",
   "metadata": {},
   "outputs": [
    {
     "name": "stdout",
     "output_type": "stream",
     "text": [
      "dhaka\n",
      "chit\n",
      "sylhet\n",
      "Rajshahi\n",
      "rangpur\n",
      "barishal\n",
      "khulna\n",
      "mymensingh\n"
     ]
    }
   ],
   "source": [
    "for item in div:\n",
    "    print(item)"
   ]
  },
  {
   "cell_type": "code",
   "execution_count": 198,
   "id": "fe088c09",
   "metadata": {},
   "outputs": [
    {
     "name": "stdout",
     "output_type": "stream",
     "text": [
      "dhaka 15\n",
      "chit 15\n",
      "sylhet 8\n",
      "Rajshahi 12\n",
      "rangpur 10\n",
      "barishal 8\n",
      "khulna 25\n",
      "mymensingh 12\n"
     ]
    }
   ],
   "source": [
    "for item in div:\n",
    "    print(item,div[item])"
   ]
  },
  {
   "cell_type": "code",
   "execution_count": 204,
   "id": "19ded08a",
   "metadata": {},
   "outputs": [
    {
     "data": {
      "text/plain": [
       "dict_keys(['dhaka', 'chit', 'sylhet', 'Rajshahi', 'rangpur', 'barishal', 'khulna', 'mymensingh'])"
      ]
     },
     "execution_count": 204,
     "metadata": {},
     "output_type": "execute_result"
    }
   ],
   "source": [
    "div.keys()"
   ]
  },
  {
   "cell_type": "code",
   "execution_count": 206,
   "id": "494ae0a0",
   "metadata": {},
   "outputs": [],
   "source": [
    "div??"
   ]
  },
  {
   "cell_type": "code",
   "execution_count": 207,
   "id": "f1dcd3ff",
   "metadata": {},
   "outputs": [
    {
     "data": {
      "text/plain": [
       "dict_keys(['dhaka', 'chit', 'sylhet', 'Rajshahi', 'rangpur', 'barishal', 'khulna', 'mymensingh'])"
      ]
     },
     "execution_count": 207,
     "metadata": {},
     "output_type": "execute_result"
    }
   ],
   "source": [
    "div.keys()"
   ]
  },
  {
   "cell_type": "code",
   "execution_count": 208,
   "id": "69b37d62",
   "metadata": {},
   "outputs": [
    {
     "data": {
      "text/plain": [
       "dict_values([15, 15, 8, 12, 10, 8, 25, 12])"
      ]
     },
     "execution_count": 208,
     "metadata": {},
     "output_type": "execute_result"
    }
   ],
   "source": [
    "div.values()"
   ]
  },
  {
   "cell_type": "code",
   "execution_count": 209,
   "id": "8111236a",
   "metadata": {},
   "outputs": [],
   "source": [
    "# to get both use iteritem"
   ]
  },
  {
   "cell_type": "code",
   "execution_count": 212,
   "id": "1b9f33c3",
   "metadata": {},
   "outputs": [
    {
     "name": "stdout",
     "output_type": "stream",
     "text": [
      "dhaka 15\n",
      "chit 15\n",
      "sylhet 8\n",
      "Rajshahi 12\n",
      "rangpur 10\n",
      "barishal 8\n",
      "khulna 25\n",
      "mymensingh 12\n"
     ]
    }
   ],
   "source": [
    "for key, value in div.items():\n",
    "    print(key,value)"
   ]
  },
  {
   "cell_type": "code",
   "execution_count": 213,
   "id": "80154bb2",
   "metadata": {},
   "outputs": [
    {
     "data": {
      "text/plain": [
       "dict_items([('dhaka', 15), ('chit', 15), ('sylhet', 8), ('Rajshahi', 12), ('rangpur', 10), ('barishal', 8), ('khulna', 25), ('mymensingh', 12)])"
      ]
     },
     "execution_count": 213,
     "metadata": {},
     "output_type": "execute_result"
    }
   ],
   "source": [
    "div.items()"
   ]
  },
  {
   "cell_type": "code",
   "execution_count": 214,
   "id": "8d3475dd",
   "metadata": {},
   "outputs": [],
   "source": [
    "#items() make it iterable for loops"
   ]
  },
  {
   "cell_type": "code",
   "execution_count": 216,
   "id": "d0e78e44",
   "metadata": {},
   "outputs": [
    {
     "name": "stdout",
     "output_type": "stream",
     "text": [
      "('dhaka', 15)\n",
      "('chit', 15)\n",
      "('sylhet', 8)\n",
      "('Rajshahi', 12)\n",
      "('rangpur', 10)\n",
      "('barishal', 8)\n",
      "('khulna', 25)\n",
      "('mymensingh', 12)\n"
     ]
    }
   ],
   "source": [
    "for x in div.items():\n",
    "    print(x)"
   ]
  },
  {
   "cell_type": "code",
   "execution_count": null,
   "id": "03dece95",
   "metadata": {},
   "outputs": [],
   "source": [
    "# here we can see items() is making it into a list of tuple(which is also iterable). which is iterator actually"
   ]
  }
 ],
 "metadata": {
  "kernelspec": {
   "display_name": "Python 3",
   "language": "python",
   "name": "python3"
  },
  "language_info": {
   "codemirror_mode": {
    "name": "ipython",
    "version": 3
   },
   "file_extension": ".py",
   "mimetype": "text/x-python",
   "name": "python",
   "nbconvert_exporter": "python",
   "pygments_lexer": "ipython3",
   "version": "3.8.8"
  }
 },
 "nbformat": 4,
 "nbformat_minor": 5
}
