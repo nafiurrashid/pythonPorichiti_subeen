{
  "nbformat": 4,
  "nbformat_minor": 0,
  "metadata": {
    "colab": {
      "name": "loop.ipynb",
      "provenance": []
    },
    "kernelspec": {
      "name": "python3",
      "display_name": "Python 3"
    },
    "language_info": {
      "name": "python"
    }
  },
  "cells": [
    {
      "cell_type": "code",
      "metadata": {
        "colab": {
          "base_uri": "https://localhost:8080/"
        },
        "id": "xW7d0glnLiwy",
        "outputId": "2f92310d-e679-4423-e156-1ad4857f0807"
      },
      "source": [
        "i=1\n",
        "while i<=10:\n",
        "  print(i)\n",
        "  i=i+1"
      ],
      "execution_count": 5,
      "outputs": [
        {
          "output_type": "stream",
          "text": [
            "1\n",
            "2\n",
            "3\n",
            "4\n",
            "5\n",
            "6\n",
            "7\n",
            "8\n",
            "9\n",
            "10\n"
          ],
          "name": "stdout"
        }
      ]
    },
    {
      "cell_type": "markdown",
      "metadata": {
        "id": "esZVn4hGMh9P"
      },
      "source": [
        "fibonacchi"
      ]
    },
    {
      "cell_type": "code",
      "metadata": {
        "colab": {
          "base_uri": "https://localhost:8080/"
        },
        "id": "lgrFzt21MIEJ",
        "outputId": "a63627cf-ae8c-4107-f69d-e1c687218e1b"
      },
      "source": [
        "fib1=0\n",
        "fib2=1\n",
        "print(fib1)\n",
        "print(fib2)\n",
        "i=1\n",
        "while i<=10:\n",
        "  fib=fib1+fib2\n",
        "  print(fib)\n",
        "  fib1=fib2\n",
        "  fib2=fib\n",
        "  i=i+1"
      ],
      "execution_count": 17,
      "outputs": [
        {
          "output_type": "stream",
          "text": [
            "0\n",
            "1\n",
            "1\n",
            "2\n",
            "3\n",
            "5\n",
            "8\n",
            "13\n",
            "21\n",
            "34\n",
            "55\n",
            "89\n"
          ],
          "name": "stdout"
        }
      ]
    },
    {
      "cell_type": "code",
      "metadata": {
        "id": "PVq9c5f3T8zs"
      },
      "source": [
        "fib1,fib2=0,1"
      ],
      "execution_count": 18,
      "outputs": []
    },
    {
      "cell_type": "code",
      "metadata": {
        "colab": {
          "base_uri": "https://localhost:8080/"
        },
        "id": "QmxIHXJTNaNB",
        "outputId": "5a72eadd-c037-43aa-b86d-36b1a2a27077"
      },
      "source": [
        "fib1,fib2=0,1\n",
        "i=1\n",
        "while i<=10:\n",
        "  fib=fib1+fib2\n",
        "  print(fib)\n",
        "  fib1=fib2\n",
        "  fib2=fib\n",
        "  i=i+1"
      ],
      "execution_count": 16,
      "outputs": [
        {
          "output_type": "stream",
          "text": [
            "1\n",
            "2\n",
            "3\n",
            "5\n",
            "8\n",
            "13\n",
            "21\n",
            "34\n",
            "55\n",
            "89\n"
          ],
          "name": "stdout"
        }
      ]
    },
    {
      "cell_type": "code",
      "metadata": {
        "colab": {
          "base_uri": "https://localhost:8080/"
        },
        "id": "E5qLwlccTsqz",
        "outputId": "2a34107c-68a2-496b-a4df-4c95ebb2a0f5"
      },
      "source": [
        "fib2"
      ],
      "execution_count": 15,
      "outputs": [
        {
          "output_type": "execute_result",
          "data": {
            "text/plain": [
              "1"
            ]
          },
          "metadata": {
            "tags": []
          },
          "execution_count": 15
        }
      ]
    },
    {
      "cell_type": "code",
      "metadata": {
        "colab": {
          "base_uri": "https://localhost:8080/"
        },
        "id": "Pnxq3R-4Tu3H",
        "outputId": "92c3e707-975a-4172-b9c1-4ad396a79b73"
      },
      "source": [
        "fib1,fib2=0,1\n",
        "while fib2<20:\n",
        "  fib=fib1+fib2\n",
        "  print(fib)\n",
        "  fib1,fib2=fib2,fib"
      ],
      "execution_count": 21,
      "outputs": [
        {
          "output_type": "stream",
          "text": [
            "1\n",
            "2\n",
            "3\n",
            "5\n",
            "8\n",
            "13\n",
            "21\n"
          ],
          "name": "stdout"
        }
      ]
    },
    {
      "cell_type": "code",
      "metadata": {
        "colab": {
          "base_uri": "https://localhost:8080/"
        },
        "id": "amiUFJKrVhSZ",
        "outputId": "d2512205-f97e-4bc1-c68f-0ad0fb493dcd"
      },
      "source": [
        "fib1,fib2=0,1\n",
        "while fib2<20:\n",
        "  print(fib2)\n",
        "  fib=fib1+fib2\n",
        "  fib1,fib2=fib2,fib"
      ],
      "execution_count": 22,
      "outputs": [
        {
          "output_type": "stream",
          "text": [
            "1\n",
            "1\n",
            "2\n",
            "3\n",
            "5\n",
            "8\n",
            "13\n"
          ],
          "name": "stdout"
        }
      ]
    },
    {
      "cell_type": "code",
      "metadata": {
        "colab": {
          "base_uri": "https://localhost:8080/"
        },
        "id": "nmc2TuWMWtqn",
        "outputId": "bd27556b-510f-4e97-b275-22a6faa436cc"
      },
      "source": [
        "fib1,fib2=0,1\n",
        "while fib2<20:\n",
        "  print(fib2)\n",
        "  #fib=fib1+fib2\n",
        "  fib1,fib2=fib2,fib1+fib2"
      ],
      "execution_count": 23,
      "outputs": [
        {
          "output_type": "stream",
          "text": [
            "1\n",
            "1\n",
            "2\n",
            "3\n",
            "5\n",
            "8\n",
            "13\n"
          ],
          "name": "stdout"
        }
      ]
    },
    {
      "cell_type": "code",
      "metadata": {
        "colab": {
          "base_uri": "https://localhost:8080/"
        },
        "id": "cbs4HmBVXJGH",
        "outputId": "4202e633-734f-4dd4-d5e1-19f7492c68f8"
      },
      "source": [
        "fib1,fib2=0,1\n",
        "while fib2<20:\n",
        "  print(fib2)\n",
        "  fib1,fib2=fib2,fib1+fib2\n",
        "  "
      ],
      "execution_count": 24,
      "outputs": [
        {
          "output_type": "stream",
          "text": [
            "1\n",
            "1\n",
            "2\n",
            "3\n",
            "5\n",
            "8\n",
            "13\n"
          ],
          "name": "stdout"
        }
      ]
    },
    {
      "cell_type": "code",
      "metadata": {
        "id": "6nOrlUj1YY6L"
      },
      "source": [
        "vowels=['a','e','i','o','u']\n"
      ],
      "execution_count": 25,
      "outputs": []
    },
    {
      "cell_type": "code",
      "metadata": {
        "colab": {
          "base_uri": "https://localhost:8080/"
        },
        "id": "5Km-A1OgYiy7",
        "outputId": "056c40bb-4715-405f-ce16-1fd3eb29511a"
      },
      "source": [
        "for ch in vowels:\n",
        "  print(ch)"
      ],
      "execution_count": 26,
      "outputs": [
        {
          "output_type": "stream",
          "text": [
            "a\n",
            "e\n",
            "i\n",
            "o\n",
            "u\n"
          ],
          "name": "stdout"
        }
      ]
    },
    {
      "cell_type": "code",
      "metadata": {
        "colab": {
          "base_uri": "https://localhost:8080/"
        },
        "id": "4AStFbajYr8R",
        "outputId": "efa184e8-e9d4-4a39-d95a-d9bfb403f905"
      },
      "source": [
        "for i in range(0,10,1):\n",
        "  print(i)"
      ],
      "execution_count": 14,
      "outputs": [
        {
          "output_type": "stream",
          "text": [
            "0\n",
            "1\n",
            "2\n",
            "3\n",
            "4\n",
            "5\n",
            "6\n",
            "7\n",
            "8\n",
            "9\n"
          ],
          "name": "stdout"
        }
      ]
    },
    {
      "cell_type": "code",
      "metadata": {
        "colab": {
          "base_uri": "https://localhost:8080/"
        },
        "id": "AXDWYji4-2nj",
        "outputId": "e7ca8c8b-fdcf-4cd6-c777-302bdfa8853e"
      },
      "source": [
        "for i in range(0,10,1):\n",
        "  print(i)\n",
        "  if i>5:\n",
        "    break"
      ],
      "execution_count": 15,
      "outputs": [
        {
          "output_type": "stream",
          "text": [
            "0\n",
            "1\n",
            "2\n",
            "3\n",
            "4\n",
            "5\n",
            "6\n"
          ],
          "name": "stdout"
        }
      ]
    },
    {
      "cell_type": "code",
      "metadata": {
        "colab": {
          "base_uri": "https://localhost:8080/"
        },
        "id": "GteE9yrbAMVN",
        "outputId": "2a912176-ad96-4907-c669-257e00046fef"
      },
      "source": [
        "for i in range(10):\n",
        "  \n",
        "  if i<5:\n",
        "    continue\n",
        "  print(i)\n"
      ],
      "execution_count": 20,
      "outputs": [
        {
          "output_type": "stream",
          "text": [
            "5\n",
            "6\n",
            "7\n",
            "8\n",
            "9\n"
          ],
          "name": "stdout"
        }
      ]
    },
    {
      "cell_type": "code",
      "metadata": {
        "id": "-4SBjB0HAT_L"
      },
      "source": [
        ""
      ],
      "execution_count": null,
      "outputs": []
    }
  ]
}